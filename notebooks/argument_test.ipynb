{
 "cells": [
  {
   "cell_type": "code",
   "execution_count": null,
   "id": "8fcc10ad",
   "metadata": {},
   "outputs": [],
   "source": [
    "def zbroj():\n",
    "    \n",
    "    from argparse import ArgumentParser\n",
    "    parser = ArgumentParser()\n",
    "    parser.add_argument('-x', '--num1', help='Dataset year',default=\"2016\")\n",
    "    parser.add_argument('-y', '--num2', help='Submit to condor',default=False)\n",
    "    args        = parser.parse_args()\n",
    "    x      =        args.num1\n",
    "    y      =        args.num2\n",
    "    \n",
    "    \n",
    "    z = x + y\n",
    "    return z"
   ]
  }
 ],
 "metadata": {
  "kernelspec": {
   "display_name": "Python 3 (ipykernel)",
   "language": "python",
   "name": "python3"
  },
  "language_info": {
   "codemirror_mode": {
    "name": "ipython",
    "version": 3
   },
   "file_extension": ".py",
   "mimetype": "text/x-python",
   "name": "python",
   "nbconvert_exporter": "python",
   "pygments_lexer": "ipython3",
   "version": "3.9.6"
  }
 },
 "nbformat": 4,
 "nbformat_minor": 5
}
