{
 "cells": [
  {
   "cell_type": "code",
   "execution_count": 1,
   "id": "460fce2a",
   "metadata": {},
   "outputs": [],
   "source": [
    "import json"
   ]
  },
  {
   "cell_type": "code",
   "execution_count": 2,
   "id": "768bf399",
   "metadata": {},
   "outputs": [
    {
     "name": "stdout",
     "output_type": "stream",
     "text": [
      "file is created!\n"
     ]
    }
   ],
   "source": [
    "with open(\"cuts.json\", \"w\") as cuts:\n",
    "    print(\"file is created!\")"
   ]
  },
  {
   "cell_type": "code",
   "execution_count": 5,
   "id": "3c25c371",
   "metadata": {},
   "outputs": [],
   "source": [
    "cut_list = {\"pts\": 250, \"etas\":2.5, \"masses\": 60}"
   ]
  },
  {
   "cell_type": "code",
   "execution_count": 8,
   "id": "2de79217",
   "metadata": {},
   "outputs": [],
   "source": [
    "cut_list_write = json.dumps(cut_list)\n",
    "\n",
    "with open(\"cuts.json\", \"w\") as cuts:\n",
    "    cuts.write(cut_list_write) #ah ovo se lakse moze s json.dumps"
   ]
  },
  {
   "cell_type": "code",
   "execution_count": 9,
   "id": "1190d33a",
   "metadata": {},
   "outputs": [
    {
     "data": {
      "text/plain": [
       "{'pts': 250, 'etas': 2.5, 'masses': 60}"
      ]
     },
     "execution_count": 9,
     "metadata": {},
     "output_type": "execute_result"
    }
   ],
   "source": [
    "with open(\"cuts.json\", \"r\") as cuts:\n",
    "    cuts_ls = json.load(cuts)\n",
    "    \n",
    "cuts_ls"
   ]
  },
  {
   "cell_type": "code",
   "execution_count": null,
   "id": "89ea4c8a",
   "metadata": {},
   "outputs": [],
   "source": []
  }
 ],
 "metadata": {
  "kernelspec": {
   "display_name": "Python 3 (ipykernel)",
   "language": "python",
   "name": "python3"
  },
  "language_info": {
   "codemirror_mode": {
    "name": "ipython",
    "version": 3
   },
   "file_extension": ".py",
   "mimetype": "text/x-python",
   "name": "python",
   "nbconvert_exporter": "python",
   "pygments_lexer": "ipython3",
   "version": "3.9.6"
  }
 },
 "nbformat": 4,
 "nbformat_minor": 5
}
