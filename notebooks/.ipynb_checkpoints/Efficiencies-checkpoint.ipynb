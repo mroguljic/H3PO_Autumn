{
 "cells": [
  {
   "cell_type": "code",
   "execution_count": 2,
   "id": "5bb7371f",
   "metadata": {},
   "outputs": [
    {
     "name": "stdout",
     "output_type": "stream",
     "text": [
      "Welcome to JupyROOT 6.24/07\n"
     ]
    }
   ],
   "source": [
    "import ROOT as r\n",
    "\n",
    "from pathlib import Path\n",
    "\n",
    "import pickle"
   ]
  },
  {
   "cell_type": "code",
   "execution_count": 19,
   "id": "b7c0374e",
   "metadata": {},
   "outputs": [
    {
     "data": {
      "text/plain": [
       "{}"
      ]
     },
     "execution_count": 19,
     "metadata": {},
     "output_type": "execute_result"
    }
   ],
   "source": [
    "tablica = {}\n",
    "\n",
    "with open(\"Signal_efficiency.pickle\", \"wb\") as f:\n",
    "    pickle.dump(tablica, f)"
   ]
  },
  {
   "cell_type": "code",
   "execution_count": 3,
   "id": "0351c15d",
   "metadata": {},
   "outputs": [],
   "source": [
    "with open(\"Signal_efficiency.pickle\", \"rb\") as f:\n",
    "    tab = pickle.load(f)\n",
    "#tab"
   ]
  },
  {
   "cell_type": "code",
   "execution_count": 55,
   "id": "f224f26f",
   "metadata": {},
   "outputs": [],
   "source": [
    "def efficiencies(min_M2, max_M2, min_M3, max_M3):\n",
    "    tablica = {}\n",
    "    \n",
    "    for i in range(min_M3, max_M3+400, 400):\n",
    "        m3 = str(i)\n",
    "        for j in range(min_M2, max_M2+10, 10):\n",
    "            signals = 0\n",
    "            m2 = str(j)\n",
    "            \n",
    "                \n",
    "            Filename = (\"/STORE/ferencek/TRSM_XToHY_6b/2017/13TeV/NANOAOD/TRSM_XToHY_6b_M3_\"\n",
    "                        + m3 +\n",
    "                        \"_M2_\"\n",
    "                        + m2 +\n",
    "                        \"_NANOAOD.root\")\n",
    "\n",
    "            if Path(Filename).is_file():\n",
    "\n",
    "\n",
    "                f = r.TFile.Open(Filename)\n",
    "                tree = f.Get(\"Events\")\n",
    "\n",
    "                nEvts = tree.GetEntriesFast()\n",
    "\n",
    "                for k in range(nEvts):    \n",
    "                    tree.GetEvent(k)\n",
    "\n",
    "\n",
    "                    if tree.nFatJet<3:\n",
    "                        continue\n",
    "\n",
    "                    pts     = tree.FatJet_pt\n",
    "                    etas    = tree.FatJet_eta\n",
    "                    phis    = tree.FatJet_phi\n",
    "                    masses  = tree.FatJet_msoftdrop\n",
    "                    \n",
    "                    with open(\"cuts.json\", \"r\") as cuts:\n",
    "                        cuts_dict = json.load(cuts)\n",
    "                        \n",
    "                    cuts_list = list(cuts_dict.values())\n",
    "                    \n",
    "                    cut_pts = cuts_list[0]\n",
    "                    cut_etas = cuts_list[1]\n",
    "                    cut_masses = cuts_list[2]\n",
    "\n",
    "                    jet0Flag = pts[0]>cut_pts and abs(etas[0])<cut_etas  and masses[0]>cut_masses\n",
    "                    jet1Flag = pts[1]>cut_pts and abs(etas[1])<cut_etas  and masses[1]>cut_masses\n",
    "                    jet2Flag = pts[2]>cut_pts and abs(etas[2])<cut_etas  and masses[2]>cut_masses\n",
    "\n",
    "                    if (jet0Flag and jet1Flag and jet2Flag):\n",
    "                        signals += 1\n",
    "                eff = signals/nEvts\n",
    "                tablica.update({m3 + \", \" + m2: eff})\n",
    "                with open(\"Signal_efficiency.pickle\", \"wb\") as f:\n",
    "                    pickle.dump(tablica, f)\n",
    "\n",
    "                \n",
    "            \n",
    "                    \n",
    "                \n",
    "        \n",
    "    return \"Finished calculating. Use the pickle mode to access the results\""
   ]
  },
  {
   "cell_type": "code",
   "execution_count": 59,
   "id": "dbcab495",
   "metadata": {},
   "outputs": [
    {
     "name": "stdout",
     "output_type": "stream",
     "text": [
      "CPU times: user 5min 46s, sys: 2.87 s, total: 5min 49s\n",
      "Wall time: 5min 52s\n"
     ]
    },
    {
     "data": {
      "text/plain": [
       "'Finished calculating. Use the pickle mode to access the results'"
      ]
     },
     "execution_count": 59,
     "metadata": {},
     "output_type": "execute_result"
    }
   ],
   "source": [
    "%%time\n",
    "efficiencies(min_M2 = 0, max_M2 = 4000, min_M3 = 0, max_M3=4000)"
   ]
  },
  {
   "cell_type": "code",
   "execution_count": 26,
   "id": "0869d195",
   "metadata": {},
   "outputs": [
    {
     "name": "stdout",
     "output_type": "stream",
     "text": [
      "CPU times: user 6.1 s, sys: 58 ms, total: 6.16 s\n",
      "Wall time: 6.14 s\n"
     ]
    },
    {
     "data": {
      "text/plain": [
       "0.2287"
      ]
     },
     "execution_count": 26,
     "metadata": {},
     "output_type": "execute_result"
    }
   ],
   "source": [
    "%%time\n",
    "\n",
    "Filename = \"/STORE/ferencek/TRSM_XToHY_6b/2017/13TeV/NANOAOD/TRSM_XToHY_6b_M3_2000_M2_1100_NANOAOD.root\"\n",
    "\n",
    "f = r.TFile.Open(Filename)\n",
    "tree = f.Get(\"Events\")\n",
    "\n",
    "nEvts = tree.GetEntriesFast()\n",
    "\n",
    "signals = 0\n",
    "    \n",
    "for i in range(nEvts): \n",
    "    tree.GetEvent(i)\n",
    "\n",
    "\n",
    "    if tree.nFatJet<3:\n",
    "        continue\n",
    "\n",
    "    pts     = tree.FatJet_pt\n",
    "    etas    = tree.FatJet_eta\n",
    "    phis    = tree.FatJet_phi\n",
    "    masses  = tree.FatJet_msoftdrop\n",
    "\n",
    "    jet0Flag = pts[0]>250 and abs(etas[0])<2.5 and masses[0]>60\n",
    "    jet1Flag = pts[1]>250 and abs(etas[1])<2.5 and masses[1]>60\n",
    "    jet2Flag = pts[2]>250 and abs(etas[2])<2.5 and masses[2]>60\n",
    "\n",
    "    if (jet0Flag and jet1Flag and jet2Flag):\n",
    "        signals += 1\n",
    "\n",
    "eff = signals/nEvts\n",
    "eff"
   ]
  },
  {
   "cell_type": "code",
   "execution_count": null,
   "id": "d1e0ca31",
   "metadata": {},
   "outputs": [],
   "source": []
  }
 ],
 "metadata": {
  "kernelspec": {
   "display_name": "Python 3 (ipykernel)",
   "language": "python",
   "name": "python3"
  },
  "language_info": {
   "codemirror_mode": {
    "name": "ipython",
    "version": 3
   },
   "file_extension": ".py",
   "mimetype": "text/x-python",
   "name": "python",
   "nbconvert_exporter": "python",
   "pygments_lexer": "ipython3",
   "version": "3.9.6"
  }
 },
 "nbformat": 4,
 "nbformat_minor": 5
}
