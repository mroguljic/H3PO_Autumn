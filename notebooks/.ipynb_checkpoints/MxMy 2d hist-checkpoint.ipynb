{
 "cells": [
  {
   "cell_type": "code",
   "execution_count": 1,
   "id": "f5f4cd01",
   "metadata": {},
   "outputs": [
    {
     "name": "stdout",
     "output_type": "stream",
     "text": [
      "Welcome to JupyROOT 6.24/07\n"
     ]
    }
   ],
   "source": [
    "import ROOT as r\n",
    "import json"
   ]
  },
  {
   "cell_type": "code",
   "execution_count": 2,
   "id": "2606aed4",
   "metadata": {},
   "outputs": [
    {
     "name": "stderr",
     "output_type": "stream",
     "text": [
      "Warning in <TClass::Init>: no dictionary for class __pair_base<edm::Hash<1>,edm::ParameterSetBlob> is available\n"
     ]
    }
   ],
   "source": [
    "testFileName = \"/STORE/ferencek/TRSM_XToHY_6b/2017/13TeV/NANOAOD/TRSM_XToHY_6b_M3_2000_M2_1100_NANOAOD.root\"\n",
    "\n",
    "f = r.TFile.Open(testFileName)\n",
    "tree = f.Get(\"Events\")"
   ]
  },
  {
   "cell_type": "code",
   "execution_count": 3,
   "id": "81361d59",
   "metadata": {},
   "outputs": [],
   "source": [
    "hist = r.TH2F(\"Histogram\",\"\",300,0,3000,300,0,3000)\n",
    "\n",
    "nEvts = tree.GetEntriesFast()\n",
    "\n",
    "for i in range(nEvts):    \n",
    "    tree.GetEvent(i)\n",
    "    \n",
    "    \n",
    "    if tree.nFatJet<3:\n",
    "        continue\n",
    "    \n",
    "    pts     = tree.FatJet_pt\n",
    "    etas    = tree.FatJet_eta\n",
    "    phis    = tree.FatJet_phi\n",
    "    masses  = tree.FatJet_msoftdrop\n",
    "    \n",
    "    with open(\"cuts.json\", \"r\") as cuts:\n",
    "        cuts_dict = json.load(cuts)\n",
    "                        \n",
    "    cuts_list = list(cuts_dict.values())\n",
    "                    \n",
    "    cut_pts = cuts_list[0]\n",
    "    cut_etas = cuts_list[1]\n",
    "    cut_masses_min = cuts_list[2]\n",
    "    cut_masses_max = cuts_list[3]\n",
    "    \n",
    "    \n",
    "\n",
    "    jet0Flag = pts[0]>cut_pts and abs(etas[0])<cut_etas  and masses[0]>cut_masses_min and masses[0]<cut_masses_max\n",
    "    jet1Flag = pts[1]>cut_pts and abs(etas[1])<cut_etas  and masses[1]>cut_masses_min and masses[1]<cut_masses_max\n",
    "    jet2Flag = pts[2]>cut_pts and abs(etas[2])<cut_etas  and masses[2]>cut_masses_min and masses[2]<cut_masses_max\n",
    "\n",
    "    if not (jet0Flag and jet1Flag and jet2Flag):\n",
    "        continue\n",
    "    \n",
    "    jet0 = r.TLorentzVector()\n",
    "    jet0.SetPtEtaPhiM(pts[0],etas[0],phis[0],masses[0])\n",
    "    \n",
    "    jet1 = r.TLorentzVector()\n",
    "    jet1.SetPtEtaPhiM(pts[1],etas[1],phis[1],masses[1])\n",
    "    \n",
    "    jet2 = r.TLorentzVector()\n",
    "    jet2.SetPtEtaPhiM(pts[2],etas[2],phis[2],masses[2])\n",
    "    \n",
    "    \n",
    "    jet12 = jet1.M() + jet2.M()\n",
    "    trijet = jet1.M() + jet2.M() + jet0.M()\n",
    "    \n",
    "    hist.Fill(jet12, trijet)\n",
    "    \n",
    "    "
   ]
  },
  {
   "cell_type": "code",
   "execution_count": 4,
   "id": "7d091568",
   "metadata": {},
   "outputs": [
    {
     "name": "stderr",
     "output_type": "stream",
     "text": [
      "Info in <TCanvas::Print>: png file Eff_plot_new.png has been created\n"
     ]
    },
    {
     "data": {
      "image/png": "[encoded data removed]",
      "text/plain": [
       "<IPython.core.display.Image object>"
      ]
     },
     "metadata": {},
     "output_type": "display_data"
    }
   ],
   "source": [
    "r.gStyle.SetOptStat(0000)\n",
    "c = r.TCanvas(\"c\",\"\",800,600)\n",
    "hist.GetXaxis().SetTitle(\"M_{3} [GeV]\")\n",
    "hist.GetYaxis().SetTitle(\"M_{2} [GeV]\")\n",
    "hist.SetTitle(\"2D Histogram\")\n",
    "hist.Draw(\"colz\")\n",
    "c.Draw()\n",
    "c.SaveAs(\"2D_hist.png\")"
   ]
  },
  {
   "cell_type": "code",
   "execution_count": null,
   "id": "83d0a0d4",
   "metadata": {},
   "outputs": [],
   "source": [
    "jet0Masses = r.TH2F(\"jet0m\",\"\",300,0,3000)\n",
    "jet1Masses = r.TH2F(\"jet1m\",\"\",300,0,3000)\n",
    "jet2Masses = r.TH2F(\"jet2m\",\"\",300,0,3000)\n",
    "trijetMasses = r.TH2F(\"jet2m\",\"\",300,0,3000)\n",
    "\n",
    "nEvts = tree.GetEntriesFast()\n",
    "\n",
    "for i in range(nEvts):    \n",
    "    tree.GetEvent(i)\n",
    "    \n",
    "    \n",
    "    if tree.nFatJet<3:\n",
    "        continue\n",
    "    \n",
    "    pts     = tree.FatJet_pt\n",
    "    etas    = tree.FatJet_eta\n",
    "    phis    = tree.FatJet_phi\n",
    "    masses  = tree.FatJet_msoftdrop\n",
    "    \n",
    "    with open(\"cuts.json\", \"r\") as cuts:\n",
    "        cuts_dict = json.load(cuts)\n",
    "                        \n",
    "    cuts_list = list(cuts_dict.values())\n",
    "                    \n",
    "    cut_pts = cuts_list[0]\n",
    "    cut_etas = cuts_list[1]\n",
    "    cut_masses_min = cuts_list[2]\n",
    "    cut_masses_max = cuts_list[3]\n",
    "    \n",
    "    \n",
    "\n",
    "    jet0Flag = pts[0]>cut_pts and abs(etas[0])<cut_etas  and masses[0]>cut_masses_min and masses[0]<cut_masses_max\n",
    "    jet1Flag = pts[1]>cut_pts and abs(etas[1])<cut_etas  and masses[1]>cut_masses_min and masses[1]<cut_masses_max\n",
    "    jet2Flag = pts[2]>cut_pts and abs(etas[2])<cut_etas  and masses[2]>cut_masses_min and masses[2]<cut_masses_max\n",
    "\n",
    "    if not (jet0Flag and jet1Flag and jet2Flag):\n",
    "        continue\n",
    "    \n",
    "    jet0 = r.TLorentzVector()\n",
    "    jet0.SetPtEtaPhiM(pts[0],etas[0],phis[0],masses[0])\n",
    "    \n",
    "    jet1 = r.TLorentzVector()\n",
    "    jet1.SetPtEtaPhiM(pts[1],etas[1],phis[1],masses[1])\n",
    "    \n",
    "    jet2 = r.TLorentzVector()\n",
    "    jet2.SetPtEtaPhiM(pts[2],etas[2],phis[2],masses[2])\n",
    "    \n",
    "    \n",
    "    jet0Masses.Fill(jet0.M())\n",
    "    jet1Masses.Fill(jet1.M())\n",
    "    jet2Masses.Fill(jet2.M())"
   ]
  }
 ],
 "metadata": {
  "kernelspec": {
   "display_name": "Python 3 (ipykernel)",
   "language": "python",
   "name": "python3"
  },
  "language_info": {
   "codemirror_mode": {
    "name": "ipython",
    "version": 3
   },
   "file_extension": ".py",
   "mimetype": "text/x-python",
   "name": "python",
   "nbconvert_exporter": "python",
   "pygments_lexer": "ipython3",
   "version": "3.9.6"
  }
 },
 "nbformat": 4,
 "nbformat_minor": 5
}
